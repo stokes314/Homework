{
 "cells": [
  {
   "cell_type": "markdown",
   "metadata": {},
   "source": [
    "# **An algorithm is a step-by-step procedure for solving a problem or accomplishing a task.** \n",
    "## Variable names cannot start with numbers or special characters. \n",
    "### A semantic error is an error in a program that produces unintended or incorrect results, even though the code is correct.\n",
    "##### *The number one rule of coding/debugging is that complexity is the enemy of efficiency.*\n",
    "##### **Five Python reserved words are:**\n",
    "1. *FALSE*\n",
    "2. *TRUE*\n",
    "3. *OR*\n",
    "4. *AS*\n",
    "5. *DEF*"
   ]
  },
  {
   "cell_type": "code",
   "execution_count": 2,
   "metadata": {},
   "outputs": [
    {
     "name": "stdout",
     "output_type": "stream",
     "text": [
      "6\n",
      "n\n",
      "ing Data Analytics\n",
      "Learning Data Analytics and Python is great!\n",
      "Hi my name is {name}, I am {tall} and {so} old today.\n",
      "39.0\n"
     ]
    }
   ],
   "source": [
    "\"\"\" \n",
    "My name is Will.\n",
    "My favorite food is pizza. \n",
    "My dream job is a remote job in the technology industry.\n",
    "\"\"\""
   ]
  },
  {
   "cell_type": "code",
   "execution_count": 4,
   "metadata": {},
   "outputs": [
    {
     "name": "stdout",
     "output_type": "stream",
     "text": [
      "6\n",
      "i\n"
     ]
    }
   ],
   "source": [
    "a = 5\n",
    "b = \"String\"\n",
    "c = 20.1\n",
    "d = [\"red\", \"white\", \"blue\"]\n",
    "e = True\n",
    "\n",
    "print(len(b))\n",
    "print(b[3])"
   ]
  },
  {
   "cell_type": "code",
   "execution_count": 3,
   "metadata": {},
   "outputs": [
    {
     "name": "stdout",
     "output_type": "stream",
     "text": [
      "ing Data Analytics\n",
      "True\n"
     ]
    }
   ],
   "source": [
    "savvy = \"Learning Data Analytics and Python is Awesome!\"\n",
    "\n",
    "substring = savvy[5:23] \n",
    "print(substring)\n",
    "\n",
    "savvy.replace(\"Awesom\", \"great\")\n",
    "\n",
    "if \"Python\" in savvy:\n",
    "    print(True)\n",
    "elif \"Python\" not in savvy:\n",
    "    print(\"False\")"
   ]
  },
  {
   "cell_type": "code",
   "execution_count": 6,
   "metadata": {},
   "outputs": [
    {
     "name": "stdout",
     "output_type": "stream",
     "text": [
      "Hi my name is Will, I am six feet and 39 old today.\n",
      "39.0\n"
     ]
    }
   ],
   "source": [
    "name, age, length = \"Will\", 39, \"six feet\"\n",
    "miniBio = f\"Hi my name is {name}, I am {length} and {age} old today.\"\n",
    "print(miniBio)\n",
    "age = float(39)\n",
    "print(age)"
   ]
  },
  {
   "cell_type": "code",
   "execution_count": 31,
   "metadata": {},
   "outputs": [
    {
     "name": "stdout",
     "output_type": "stream",
     "text": [
      "8\n",
      "['Hello', 3.5, [1, 2]]\n",
      "['apple', 10, 'Hello', 3.5, [1, 2], 7, 'Dog', 1.1, 'Hello', 3.5, [1, 2]]\n",
      "[1, 2, 3, 4, 5]\n",
      "['Hello', 3.5, [1, 2], 1, 2, 3, 4, 5]\n"
     ]
    }
   ],
   "source": [
    "list = [\"apple\", 10, True, 3.5, [1, 2]]\n",
    "list[2] = \"Hello\"\n",
    "list.append(7)\n",
    "list.append(\"Dog\")\n",
    "list.append(1.1)\n",
    "print(len(list))\n",
    "\n",
    "new_list = list[2:5]\n",
    "print(new_list)\n",
    "\n",
    "list.extend(new_list)\n",
    "print(list)\n",
    "\n",
    "simList = [1,2,3,4,5]\n",
    "simList.sort()\n",
    "print(simList)\n",
    "new_simList = simList.copy()\n",
    "\n",
    "list4 = new_list + simList\n",
    "print(list4)\n",
    "\n"
   ]
  },
  {
   "cell_type": "code",
   "execution_count": 42,
   "metadata": {},
   "outputs": [
    {
     "name": "stdout",
     "output_type": "stream",
     "text": [
      "1\n",
      "[1, True, 1, True, 1, True, 2.5, 2.5, 2.5, 7, 7, 7, 9, 9, 9]\n",
      "(9, 2.5, True, 2.5)\n",
      "9\n",
      "2.5\n",
      "True\n",
      "2.5\n",
      "(50,)\n",
      "(9, 1, 2.5, True, 7, 9, 1, 2.5, True, 7, 9, 1, 2.5, True, 7, 9, 2.5, True, 2.5)\n"
     ]
    }
   ],
   "source": [
    "tup1 = (9, 1, 2.5, True, 7)\n",
    "\n",
    "multi_tup = tup1 * 3\n",
    "print(multi_tup[11])\n",
    "\n",
    "print(sorted(multi_tup))\n",
    "\n",
    "tup3 = multi_tup[0], multi_tup[2], multi_tup[3], multi_tup[7]\n",
    "print(tup3)\n",
    "\n",
    "a,b,c,d = tup3\n",
    "print(a)\n",
    "print(b)\n",
    "print(c)\n",
    "print(d)\n",
    "\n",
    "tup4 = (50,)\n",
    "print(tup4)\n",
    "\n",
    "tup5 = multi_tup + tup3\n",
    "print(tup5)\n"
   ]
  },
  {
   "cell_type": "code",
   "execution_count": 61,
   "metadata": {},
   "outputs": [
    {
     "name": "stdout",
     "output_type": "stream",
     "text": [
      "{1, 2.5, 'banana', 'python', 'orange', 'apple'}\n",
      "{5, 7}\n",
      "set()\n",
      "{2.5, 3, 'banana', 5, 'python', 'orange', 'car', 'apple'}\n"
     ]
    }
   ],
   "source": [
    "set1 = {1, 2.5, \"python\"}\n",
    "\n",
    "set1.add(\"apple\") \n",
    "set1.add (\"banana\") \n",
    "set1.add (\"orange\")\n",
    "print(set1)\n",
    "\n",
    "set1.add(\"car\")\n",
    "\n",
    "set2 = {3,5,7}\n",
    "\n",
    "set3 = set2.union(set1)\n",
    "\n",
    "set2.pop()\n",
    "print(set2)\n",
    "\n",
    "set1.clear()\n",
    "print(set1)\n",
    "\n",
    "set3.discard(1)\n",
    "set3.remove(7)\n",
    "print(set3)"
   ]
  },
  {
   "cell_type": "code",
   "execution_count": 112,
   "metadata": {},
   "outputs": [
    {
     "name": "stdout",
     "output_type": "stream",
     "text": [
      "small\n",
      "dict_keys(['big', 'num', 'bool', 'float', 'list', 'color', 'tup'])\n",
      "dict_values(['Will', 1, True, 5.5, ['San', 'Fran', 49], 'red', (1, 2, 4)])\n",
      "{'big': 'Will', 'num': 1, 'float': 5.5, 'list': ['San', 'Fran', 49], 'color': 'red', 'tup': (1, 2, 4)}\n",
      "{}\n"
     ]
    }
   ],
   "source": [
    "dict = {\n",
    "    \"big\": \"small\",\n",
    "    \"num\": 1,\n",
    "    \"bool\": True ,\n",
    "    \"float\": 5.5,\n",
    "    \"list\": [\"San\", \"Fran\", 49]\n",
    "}\n",
    "print(dict[\"big\"])\n",
    "\n",
    "dict[\"big\"] = \"Will\"\n",
    "\n",
    "dict.update({\"color\": \"red\"})\n",
    "\n",
    "dict.update({\"tup\": (1,2,4)})\n",
    "\n",
    "print(dict.keys())\n",
    "\n",
    "print(dict.values())\n",
    "\n",
    "dict2 = dict\n",
    "\n",
    "dict2.pop(\"bool\")\n",
    "print(dict2)\n",
    "\n",
    "dict2.clear()\n",
    "print(dict2)"
   ]
  },
  {
   "cell_type": "code",
   "execution_count": null,
   "metadata": {},
   "outputs": [],
   "source": []
  }
 ],
 "metadata": {
  "kernelspec": {
   "display_name": "Python 3 (ipykernel)",
   "language": "python",
   "name": "python3"
  },
  "language_info": {
   "codemirror_mode": {
    "name": "ipython",
    "version": 3
   },
   "file_extension": ".py",
   "mimetype": "text/x-python",
   "name": "python",
   "nbconvert_exporter": "python",
   "pygments_lexer": "ipython3",
   "version": "3.12.1"
  }
 },
 "nbformat": 4,
 "nbformat_minor": 4
}
