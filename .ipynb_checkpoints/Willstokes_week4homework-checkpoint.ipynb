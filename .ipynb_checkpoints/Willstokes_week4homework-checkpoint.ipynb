{
 "cells": [
  {
   "cell_type": "markdown",
   "id": "7b953ffa-9036-45b4-99da-83e7c6956314",
   "metadata": {},
   "source": [
    "# **To use a module you need to import the module into your code-base by using import statements.**\n",
    "## A module that we looked at is the random module. Below is a line of code for the random module.\n",
    "- *import random*\n",
    "- *b = random.randrange(1,31)*\n",
    "\n",
    "- *import random*\n",
    "- *c = random.random()*\n",
    "\n",
    "## The benefit of using Exception handling is managing code errors by writing error exceptions that Python will recognize and still run the code. \n",
    "### The four components used for Python Exception Handling are try, except, else, and finally.\n",
    "#### NumPy arrays are like the list data type in Python.\n",
    "### *The benefits of using NumPy arrays are occupying less memory, convenience, and speed.* \n",
    "### A main requirement of dtype of NumPy arrays is that you must specify which data type you want to use when using the import function. \n",
    "### Two uses of Numpy are stacking, and linear algebra. \n",
    "## **A library that we will use with NumPy is matplotlib.**\n",
    "### The shape of a Numpy array is the number of elements in each dimension. \n",
    "#### A tensor is an array with 3+ dimensions.\n",
    "### NumPy is better for data analytics because it can store more elements of the same data type than lists can.\n",
    "### **The elements for an empty array come from the memory allocated for the array.**"
   ]
  },
  {
   "cell_type": "code",
   "execution_count": 8,
   "id": "90b0d7bb-c110-45f0-831a-e5e05b9172c6",
   "metadata": {},
   "outputs": [
    {
     "name": "stdout",
     "output_type": "stream",
     "text": [
      "Renting a car is more affordable\n"
     ]
    }
   ],
   "source": [
    "#Create an if statement: if 'age' is greater than or equal to 25, print \"Renting a car is more affordable\", however if 'age' is less than 25, print \"Renting a car is very expensive.\"\n",
    "age = 30\n",
    "\n",
    "if age >= 25:\n",
    "    print(\"Renting a car is more affordable\")\n",
    "else: \n",
    "    age < 25\n",
    "    print(\"Renting a car is very expensive\")\n"
   ]
  },
  {
   "cell_type": "code",
   "execution_count": 34,
   "id": "cec0d500-14e6-4c3b-af3e-57ec4f64b699",
   "metadata": {},
   "outputs": [
    {
     "name": "stdout",
     "output_type": "stream",
     "text": [
      "You cannot legally rent a car\n"
     ]
    }
   ],
   "source": [
    "#Create and chain an if-else statement: if 'age' is greater than or equal to 25, print \"Renting a car is more affordable.\" If 'age' is less than 25 but greater than or equal to 18, print \"Renting a car is very expensive.\" Finally, if age is less than 18, print \"You cannot legally rent a car.\"\n",
    "age = 17\n",
    "\n",
    "if age >= 25:\n",
    "    print(\"Renting a car is more affordable\")\n",
    "else: \n",
    "    if age >= 18:\n",
    "        print(\"Renting a car is very expensive\")\n",
    "    else: \n",
    "        if age < 18:\n",
    "            print(\"You cannot legally rent a car\")\n",
    "    \n"
   ]
  },
  {
   "cell_type": "code",
   "execution_count": 39,
   "id": "269cfcaa-8abe-4b2e-bd4e-623c4996fda2",
   "metadata": {},
   "outputs": [
    {
     "name": "stdout",
     "output_type": "stream",
     "text": [
      "e\n",
      "u\n",
      "i\n",
      "o\n",
      "o\n",
      "u\n",
      "o\n",
      "e\n",
      "e\n",
      "a\n",
      "o\n",
      "43\n"
     ]
    }
   ],
   "source": [
    "#Loop over the following string to (1) count all the characters in the string and (2) print out all the vowels -- \"The quick brown fox jumps over the lazy dog\"\n",
    "string = \"The quick brown fox jumps over the lazy dog\"\n",
    "\n",
    "sum = 0\n",
    "\n",
    "for char in string:\n",
    "    sum += 1\n",
    "\n",
    "    if char in \"aeiouAEIOU\":\n",
    "        print(char)\n",
    "    \n",
    "print(sum)"
   ]
  },
  {
   "cell_type": "code",
   "execution_count": 41,
   "id": "24eba132-73a2-44ce-bb4e-c2a69d100d11",
   "metadata": {},
   "outputs": [
    {
     "name": "stdout",
     "output_type": "stream",
     "text": [
      "trousers auburn\n",
      "trousers Dark Sapphire\n",
      "trousers burnt sienna\n",
      "trousers gunmetal blue\n",
      "trousers cerise\n",
      "trousers aqua\n",
      "trousers maple\n",
      "trousers fuchsia\n",
      "blouse auburn\n",
      "blouse Dark Sapphire\n",
      "blouse burnt sienna\n",
      "blouse gunmetal blue\n",
      "blouse cerise\n",
      "blouse aqua\n",
      "blouse maple\n",
      "blouse fuchsia\n",
      "bandana auburn\n",
      "bandana Dark Sapphire\n",
      "bandana burnt sienna\n",
      "bandana gunmetal blue\n",
      "bandana cerise\n",
      "bandana aqua\n",
      "bandana maple\n",
      "bandana fuchsia\n",
      "cumber band auburn\n",
      "cumber band Dark Sapphire\n",
      "cumber band burnt sienna\n",
      "cumber band gunmetal blue\n",
      "cumber band cerise\n",
      "cumber band aqua\n",
      "cumber band maple\n",
      "cumber band fuchsia\n",
      "blazer auburn\n",
      "blazer Dark Sapphire\n",
      "blazer burnt sienna\n",
      "blazer gunmetal blue\n",
      "blazer cerise\n",
      "blazer aqua\n",
      "blazer maple\n",
      "blazer fuchsia\n",
      "vest auburn\n",
      "vest Dark Sapphire\n",
      "vest burnt sienna\n",
      "vest gunmetal blue\n",
      "vest cerise\n",
      "vest aqua\n",
      "vest maple\n",
      "vest fuchsia\n",
      "french beret auburn\n",
      "french beret Dark Sapphire\n",
      "french beret burnt sienna\n",
      "french beret gunmetal blue\n",
      "french beret cerise\n",
      "french beret aqua\n",
      "french beret maple\n",
      "french beret fuchsia\n",
      "scarf auburn\n",
      "scarf Dark Sapphire\n",
      "scarf burnt sienna\n",
      "scarf gunmetal blue\n",
      "scarf cerise\n",
      "scarf aqua\n",
      "scarf maple\n",
      "scarf fuchsia\n",
      "stole auburn\n",
      "stole Dark Sapphire\n",
      "stole burnt sienna\n",
      "stole gunmetal blue\n",
      "stole cerise\n",
      "stole aqua\n",
      "stole maple\n",
      "stole fuchsia\n"
     ]
    }
   ],
   "source": [
    "#Write a nested loop that prints out every piece of clothing from the couture list, in every fashionable color from the panettone set: couture = [\"trousers\", \"blouse\", \"bandana\", \"cumber band\", \"blazer\", \"vest\", \"french beret\", \"scarf\", \"stole\"] and panettone = {\"cerise\", \"fuchsia\", \"aqua\", \"maple\", \"auburn\", \"burnt sienna\", \"gunmetal blue\", \"Dark Sapphire\"}\n",
    "couture = [\"trousers\", \"blouse\", \"bandana\", \"cumber band\", \"blazer\", \"vest\", \"french beret\", \"scarf\", \"stole\"]     \n",
    "panettone = {\"cerise\", \"fuchsia\", \"aqua\", \"maple\", \"auburn\", \"burnt sienna\", \"gunmetal blue\", \"Dark Sapphire\"}\n",
    "\n",
    "for x in couture:\n",
    "    for y in panettone:\n",
    "        print(x,y)\n"
   ]
  },
  {
   "cell_type": "code",
   "execution_count": 44,
   "id": "3e653046-fb81-4f84-904f-3d46baafb756",
   "metadata": {},
   "outputs": [
    {
     "name": "stdout",
     "output_type": "stream",
     "text": [
      "4950\n"
     ]
    }
   ],
   "source": [
    "#Use range as a loop to calculate the sum of all the numbers from 1 to 100\n",
    "sum = 0\n",
    "\n",
    "for num in range(1,100):\n",
    "    sum += num\n",
    "\n",
    "print(sum)"
   ]
  },
  {
   "cell_type": "code",
   "execution_count": 7,
   "id": "4234fc1d-0d49-4e36-bec1-4f2b2fe1c5c1",
   "metadata": {},
   "outputs": [
    {
     "name": "stdout",
     "output_type": "stream",
     "text": [
      "banana\n",
      "['kiwi', 'lemon', 'cherry', 'orange']\n"
     ]
    }
   ],
   "source": [
    "#Print the second item in this fruits list. [\"apple\", \"banana\", \"cherry\"]\n",
    "list =  [\"apple\", \"banana\", \"cherry\"]\n",
    "print(list[1])\n",
    "#Change the value from \"apple\" to \"kiwi\", in the fruits list. [\"apple\", \"banana\", \"cherry\"]\n",
    "list[0] = (\"kiwi\")\n",
    "#Use the append method to add \"orange\" to the fruits list. [\"apple\", \"banana\", \"cherry\"]\n",
    "list.append(\"orange\")\n",
    "#Use the insert method to add \"lemon\" as the second item in the fruits list. [\"apple\", \"banana\", \"cherry\"]\n",
    "list.insert(1,\"lemon\") \n",
    "#Use the remove method to remove \"banana\" from the fruits list. [\"apple\", \"banana\", \"cherry\"]\n",
    "list.remove(\"banana\")\n",
    "\n",
    "print(list)"
   ]
  },
  {
   "cell_type": "code",
   "execution_count": 31,
   "id": "d33aefe7-b3a0-48f2-9e3f-030002cd091b",
   "metadata": {},
   "outputs": [
    {
     "name": "stdout",
     "output_type": "stream",
     "text": [
      "cherry\n",
      "banana\n",
      "mango\n",
      "['cherry', 'orange', 'kiwi']\n",
      "7\n",
      "['apple', 'banana', 'cherry', 'kiwi', 'mango', 'melon', 'orange']\n"
     ]
    }
   ],
   "source": [
    "#Use negative indexing to print the 3rd and 2nd to last items in the list. [\"apple\", \"banana\", \"cherry\", \"orange\", \"kiwi\", \"melon\", \"mango\"]\n",
    "list2 =  [\"apple\", \"banana\", \"cherry\", \"orange\", \"kiwi\", \"melon\", \"mango\"]\n",
    "print(list2[2])\n",
    "print(list2[1])\n",
    "print(list2[-1])\n",
    "#Use a range of indexes to print the third, fourth, and fifth item in the list. \n",
    "print(list2[2:5])\n",
    "#Use the correct syntax to print the number of items in the list. [\"apple\", \"banana\", \"cherry\", \"orange\", \"kiwi\", \"melon\", \"mango\"]\n",
    "print(len(list2))\n",
    "#Use the correct syntax to sort this list in reverse order [\"apple\", \"banana\", \"cherry\", \"orange\", \"kiwi\", \"melon\", \"mango\"]\n",
    "list2.sort()\n",
    "print(list2)\n"
   ]
  },
  {
   "cell_type": "code",
   "execution_count": 10,
   "id": "94e2b95d-0d84-49d9-969b-cc5a42db13f0",
   "metadata": {},
   "outputs": [
    {
     "name": "stdout",
     "output_type": "stream",
     "text": [
      "February\n"
     ]
    }
   ],
   "source": [
    "#Use the DateTime module to get Current Date and Time, and save it to a variable. Then extract just the Full month name form that variable.\n",
    "import datetime as dt\n",
    "today = dt.datetime.now()\n",
    "print(today.strftime(\"%B\"))"
   ]
  },
  {
   "cell_type": "code",
   "execution_count": 74,
   "id": "c527ee6e-6779-4c2d-9f5c-afec056f9b98",
   "metadata": {},
   "outputs": [
    {
     "name": "stdout",
     "output_type": "stream",
     "text": [
      "Hi, John Snow! Happy Sunday!\n",
      "Hi, John Snow!\n"
     ]
    }
   ],
   "source": [
    "#Write a simple function that takes 2 parameters -- a first name and a day name.\n",
    "#Set a default value for the day name of Sunday.\n",
    "#Have the function print out a greeting -- using the parameters -- that says something like \"Hi first-name! Happy day-name!\". Remember to use the variables in the greeting to replace first-name and day-name.\n",
    "def hello(first_name,last_name):\n",
    "    print(f\"Hi, {first_name}! Happy {last_name}!\")\n",
    "    print(f\"Hi, {first_name}!\")\n",
    "\n",
    "hello(\"John Snow\",\"Sunday\")"
   ]
  },
  {
   "cell_type": "code",
   "execution_count": 79,
   "id": "b4bf608a-367e-4196-9bf2-39fe29d1fcac",
   "metadata": {},
   "outputs": [
    {
     "name": "stdout",
     "output_type": "stream",
     "text": [
      "try\n",
      "else\n",
      "fianlly\n"
     ]
    }
   ],
   "source": [
    "#Write a block of code to handle one of the most common Python exception errors. Select one of the common errors from the curriculum section on Python Exception handling. Have your code example uses the try,except, else, and finally components.\n",
    "try: \n",
    "    print(\"try\")\n",
    "except:\n",
    "    print(\"except\")\n",
    "else:\n",
    "    print(\"else\")\n",
    "finally:\n",
    "    print(\"fianlly\")"
   ]
  },
  {
   "cell_type": "code",
   "execution_count": null,
   "id": "a54b5cb7-7464-42fb-b397-23831b436785",
   "metadata": {},
   "outputs": [],
   "source": []
  }
 ],
 "metadata": {
  "kernelspec": {
   "display_name": "Python 3 (ipykernel)",
   "language": "python",
   "name": "python3"
  },
  "language_info": {
   "codemirror_mode": {
    "name": "ipython",
    "version": 3
   },
   "file_extension": ".py",
   "mimetype": "text/x-python",
   "name": "python",
   "nbconvert_exporter": "python",
   "pygments_lexer": "ipython3",
   "version": "3.12.1"
  }
 },
 "nbformat": 4,
 "nbformat_minor": 5
}
