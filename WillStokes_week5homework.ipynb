{
 "cells": [
  {
   "cell_type": "markdown",
   "id": "9e9e1e42-85cf-4ed0-a00f-bac9a93d8ea7",
   "metadata": {},
   "source": [
    "# **Pandas stands for Panel Data or Python Data Analysis.**\n",
    "## Two collection types in \n",
    "- *Panda are series*\n",
    "- *Dataframe* \n",
    "### Pandas helps with five data analysis steps which are, load, manipulate, prepare, model, and analyze. \n",
    "#### *To permanently sort data frames you should use the keyword inplace = TRUE with df.sort().*\n",
    "### CSV is a file type that can be read by Pandas. CSV files contain plain text and are a simple way to store large data sets. \n",
    "#### When cleaning data the values that should be removed are NULLs, incorrect data, and duplicates.  "
   ]
  },
  {
   "cell_type": "code",
   "execution_count": 37,
   "id": "40dacbd4-e6df-4346-8acc-113db6d4a4d8",
   "metadata": {},
   "outputs": [
    {
     "name": "stdout",
     "output_type": "stream",
     "text": [
      "[[[ 0  1]\n",
      "  [ 2  3]\n",
      "  [ 4  5]]\n",
      "\n",
      " [[ 6  7]\n",
      "  [ 8  9]\n",
      "  [10 11]]]\n"
     ]
    }
   ],
   "source": [
    "#Import NumPy, use one of the NumPy methods and create an array with a shape of (2, 3, 2). You can use the reshape method -- .reshape()\n",
    "import numpy as np\n",
    "array = np.arange(12).reshape(2, 3, 2)\n",
    "print(array)\n",
    "\n"
   ]
  },
  {
   "cell_type": "code",
   "execution_count": 45,
   "id": "00f96d29-11b7-4e8f-b1f2-0c46b5c65090",
   "metadata": {},
   "outputs": [
    {
     "name": "stdout",
     "output_type": "stream",
     "text": [
      "[ 0.  4.  8. 12. 16. 20.]\n",
      "[ 0.  4.  8. 12. 16. 20.]\n"
     ]
    }
   ],
   "source": [
    "#Use NumPy .linspace() to create an array with 6 linearly spaced values between 0 and 20\n",
    "import numpy as np\n",
    "\n",
    "array2 = np.linspace(0, 20, num=6)\n",
    "print(array2)"
   ]
  },
  {
   "cell_type": "code",
   "execution_count": 47,
   "id": "5c44c493-d84a-4828-92fa-9da0c05cf0e4",
   "metadata": {},
   "outputs": [
    {
     "name": "stdout",
     "output_type": "stream",
     "text": [
      "[0, 4, 8, 12, 16, 20]\n"
     ]
    }
   ],
   "source": [
    "#Make a Deep Copy of the above array\n",
    "import copy\n",
    "arrayz = [0,4,8,12,16,20]\n",
    "\n",
    "array3 = copy.deepcopy(arrayz)\n",
    "\n",
    "print(array3)\n"
   ]
  },
  {
   "cell_type": "code",
   "execution_count": 55,
   "id": "1facf993-c591-4cd2-9b52-8b3bd6764b71",
   "metadata": {},
   "outputs": [
    {
     "name": "stdout",
     "output_type": "stream",
     "text": [
      "[[25 16]\n",
      " [11  2]\n",
      " [13  4]\n",
      " [ 7 81]\n",
      " [ 5  6]\n",
      " [11 12]]\n"
     ]
    }
   ],
   "source": [
    "#Concatenate these 3 arrays into a new array named 'newArray'...\n",
    "import numpy as np\n",
    "\n",
    "ar1 = np.array([[25, 16]])\n",
    "\n",
    "ar2 = np.array([[11, 2], [13, 4]])\n",
    "\n",
    "ar3 = np.array([[7, 81], [5, 6], [11, 12]])\n",
    "\n",
    "newArray = np.concatenate((ar1, ar2, ar3))\n",
    "print(newArray)"
   ]
  },
  {
   "cell_type": "code",
   "execution_count": 80,
   "id": "06f829d9-5c34-4676-a6fb-4b8ef6b1528f",
   "metadata": {},
   "outputs": [
    {
     "name": "stdout",
     "output_type": "stream",
     "text": [
      "[[16 25]\n",
      " [ 2 11]\n",
      " [ 4 13]\n",
      " [ 7 81]\n",
      " [ 5  6]\n",
      " [11 12]]\n"
     ]
    }
   ],
   "source": [
    "#Sort 'newArray' in order into 'sortedArray'\n",
    "sortedArray = np.sort(newArray)\n",
    "print(sortedArray)"
   ]
  },
  {
   "cell_type": "code",
   "execution_count": 69,
   "id": "dbb2d23d-0104-4ded-9eb7-5ac177628884",
   "metadata": {},
   "outputs": [
    {
     "name": "stdout",
     "output_type": "stream",
     "text": [
      "[ 7 81]\n",
      "[5 6]\n",
      "[11  2]\n",
      "[11 12]\n"
     ]
    }
   ],
   "source": [
    "#Unpack the array tuples from the above 'reshapedArray' into 4 well named variables. Print the 4 variables.\n",
    "a = np.array ([[7, 81], [5, 6], [11, 2], [11, 12]])\n",
    "\n",
    "unpack1, unpack2, unpack3, unpack4 = a\n",
    "\n",
    "print(unpack1)\n",
    "print(unpack2)\n",
    "print(unpack3)\n",
    "print(unpack4)\n",
    "\n"
   ]
  },
  {
   "cell_type": "code",
   "execution_count": 93,
   "id": "4e3d9e9d-1b3f-4c05-8c25-abe734fca22a",
   "metadata": {},
   "outputs": [
    {
     "name": "stdout",
     "output_type": "stream",
     "text": [
      "[10 11 12 13 14 15 16 17 20 21 22 23 24 25 26 27  0  1  2  3  4  5  6  7]\n",
      "[ 0  1  2  3  4  5  6  7 10 11 12 13 14 15 16 17 20 21 22 23 24 25 26 27]\n",
      "24\n"
     ]
    }
   ],
   "source": [
    "#Combined and sort the following arrays into one called 'comboArray' ...\n",
    "one = np.array ([10, 11, 12, 13, 14, 15, 16, 17])\n",
    "two = np.array ([20, 21, 22, 23, 24, 25, 26, 27])\n",
    "three = np.array ([ 0, 1, 2, 3, 4, 5, 6, 7])\n",
    "\n",
    "comboArray = np.concatenate((one, two, three,))\n",
    "print(comboArray)\n",
    "print(np.sort(comboArray))\n",
    "print(len(comboArray))\n",
    "\n",
    "\n"
   ]
  },
  {
   "cell_type": "code",
   "execution_count": 130,
   "id": "4e5a34ca-f0c9-4fbb-bd07-63263e8648c3",
   "metadata": {},
   "outputs": [
    {
     "name": "stdout",
     "output_type": "stream",
     "text": [
      "11\n",
      "[12 13 14 15 16 17 20 21 22 23 24 25 26 27  0  1  2  3  4  5  6  7]\n",
      "[13 14 15 16 17 20 21 22 23 24 25 26]\n",
      "[2 3 4 5 6 7]\n",
      "[10 11 12 13 14 15 16 17 20 21 22 23 24 25 26 27]\n",
      "[20 22 24 26  0  2  4  6]\n",
      "[7]\n"
     ]
    }
   ],
   "source": [
    "#Take 'comboArray' and perform the following slicing activities:\n",
    "#print sec1 - the 2nd element\n",
    "print(comboArray[1])\n",
    "#print sec2 - all elements from the 3rd element to the last\n",
    "print(comboArray[2:])\n",
    "#print sec3 - all elements from the 4th to the 14th elements\n",
    "print(comboArray[3:15])\n",
    "#print sec4 - the last 6 elements\n",
    "print(comboArray[18:])\n",
    "#print sec5 - all element from #0 up to and including #15, using the negative number method, i.e. taking a section from the end.\n",
    "print(comboArray[0:-8])\n",
    "#print sec6 - from #20 every even element to the end\n",
    "print(comboArray[8:25:2])\n",
    "#print sec7 - from the last element moving forward, every 5th element.\n",
    "print(comboArray[-1:28:5])\n",
    "\n",
    "\n"
   ]
  },
  {
   "cell_type": "code",
   "execution_count": 153,
   "id": "4e1c2a66-0dd7-424b-bdac-a3134a2ea027",
   "metadata": {},
   "outputs": [
    {
     "name": "stdout",
     "output_type": "stream",
     "text": [
      "  Ingredients  Quantity   Unit\n",
      "0       Flour         4   cups\n",
      "1        Milk         1    cup\n",
      "2        Eggs         2  large\n",
      "3        Spam         1    can\n"
     ]
    }
   ],
   "source": [
    "#Using Series, create a DataFrame that looks like this:\n",
    "import pandas as pd\n",
    "\n",
    "ingredients = pd.Series([\"Flour\", \"Milk\", \"Eggs\", \"Spam\"], name='Ingredients')\n",
    "quantity = pd.Series([4,1,2,1], name='Quantity')\n",
    "unit = pd.Series([\"cups\", \"cup\", \"large\", \"can\"], name='Unit')\n",
    "df = pd.concat([ingredients, quantity, unit], axis=1)\n",
    "print(df)\n"
   ]
  },
  {
   "cell_type": "code",
   "execution_count": 65,
   "id": "f20d426a-cca8-42a4-9423-85a8df3f4ab9",
   "metadata": {},
   "outputs": [
    {
     "name": "stdout",
     "output_type": "stream",
     "text": [
      "      Name  Height Qualification  address  Age        Pets           sport  \\\n",
      "0      Jai     5.1           Msc    Delhi   21         Dog           Darts   \n",
      "1  janusha     6.2            MA     Doha   23       Bunny      Basketball   \n",
      "2   Gaurav     5.1           Msc  Chennai   24  Chinchilla  PaddleBoarding   \n",
      "3     Anuj     5.2           Msc   Dakhar   21      Parrot         Cricket   \n",
      "\n",
      "        Deserts  \n",
      "0     ice cream  \n",
      "1  Cashew Fudge  \n",
      "2       waffels  \n",
      "3  Carrot Halwa  \n",
      "      Name  Height Qualification  address  Age        Pets           sport  \\\n",
      "3     Anuj     5.2           Msc   Dakhar   21      Parrot         Cricket   \n",
      "2   Gaurav     5.1           Msc  Chennai   24  Chinchilla  PaddleBoarding   \n",
      "0      Jai     5.1           Msc    Delhi   21         Dog           Darts   \n",
      "1  janusha     6.2            MA     Doha   23       Bunny      Basketball   \n",
      "\n",
      "        Deserts  \n",
      "3  Carrot Halwa  \n",
      "2       waffels  \n",
      "0     ice cream  \n",
      "1  Cashew Fudge  \n"
     ]
    }
   ],
   "source": [
    "#Take this data and create a DataFrame named studentData\n",
    "import pandas as pd\n",
    "\n",
    "Data = {\"Name\": ['Jai', 'janusha', 'Gaurav', 'Anuj'],\n",
    "        \"Height\": [5.1, 6.2, 5.1, 5.2],\n",
    "        \"Qualification\": ['Msc', 'MA', 'Msc', 'Msc'],\n",
    "        \"address\": ['Delhi', 'Doha', 'Chennai', 'Dakhar'],\n",
    "         \"Age\": [21, 23, 24, 21],\n",
    "         \"Pets\": ['Dog', 'Bunny', 'Chinchilla', 'Parrot'],\n",
    "          \"sport\": ['Darts', 'Basketball', 'PaddleBoarding', 'Cricket']}\n",
    "        \n",
    "studentData = pd.DataFrame(Data)\n",
    "\n",
    "#Add a new column to the DataFrame with the following deserts: [\"ice cream\", \"Cashew Fudge\", \"waffels\", \"Carrot Halwa\"]\n",
    "deserts = [\"ice cream\", \"Cashew Fudge\", \"waffels\", \"Carrot Halwa\"]\n",
    "studentData['Deserts'] = deserts\n",
    "print(studentData)\n",
    "\n",
    "#Sort the 'studentData' DataFrame in Ascending order -- Sorting by column 'Name' and then \"address\"\n",
    "studentData.sort_values(by = [\"Name\", \"address\"], inplace = True)\n",
    "print(studentData)\n",
    "\n"
   ]
  },
  {
   "cell_type": "code",
   "execution_count": 66,
   "id": "842afea1-3bcd-46be-957a-f3fbde5f2d6b",
   "metadata": {},
   "outputs": [
    {
     "name": "stdout",
     "output_type": "stream",
     "text": [
      "  Unnamed: 0  Cows  Goats\n",
      "0     Year 1    12     22\n",
      "1     Year 2    20     19\n"
     ]
    }
   ],
   "source": [
    "#Save this DataFrame here below to disc as a .CSV file with the name cows_and_goats.csv:\n",
    "import pandas as pd\n",
    "\n",
    "df = pd.DataFrame({'Cows': [12, 20], 'Goats': [22, 19]}, index=['Year 1', 'Year 2'])\n",
    "df.to_csv('cows_and_goats.csv')\n",
    "\n",
    "df = pd.read_csv('cows_and_goats.csv')\n",
    "print(df)\n",
    "\n",
    "\n"
   ]
  },
  {
   "cell_type": "code",
   "execution_count": 72,
   "id": "23cd00d6-99fc-4432-9f03-3ef880db6eb4",
   "metadata": {},
   "outputs": [
    {
     "name": "stdout",
     "output_type": "stream",
     "text": [
      "   Unnamed: 0   color        name\n",
      "0           0   green    broccoli\n",
      "1           1  orange      orange\n",
      "2           2     red  strawberry\n",
      "   Unnamed: 0.1  Unnamed: 0         color        name\n",
      "0             0           0         green    broccoli\n",
      "1             1           1  burnt orange      orange\n",
      "2             2           2           red  strawberry\n"
     ]
    }
   ],
   "source": [
    "#(A) Using Pandas, make your own .CSV file with data on vegetables and save it. (B) Using Pandas, make a change to your CSV file, and save a copy with a different name.\n",
    "import pandas as pd\n",
    "\n",
    "data = {\"color\": [\"green\", \"orange\", \"red\"],\n",
    "        \"name\":  [\"broccoli\", \"orange\", \"strawberry\"]}\n",
    "\n",
    "df = pd.DataFrame(data)\n",
    "\n",
    "df.to_csv('vegetables.csv')\n",
    "\n",
    "df = pd.read_csv('vegetables.csv')\n",
    "print(df)\n",
    "#(A) Using Pandas, make your own .CSV file with data on vegetables and save it. (B) Using Pandas, make a change to your CSV file, and save a copy with a different name.\n",
    "\n",
    "df.loc[1, \"color\"] = \"burnt orange\"\n",
    "\n",
    "df.to_csv('vegetables_2.csv')\n",
    "\n",
    "df = pd.read_csv('vegetables_2.csv')\n",
    "print(df)\n"
   ]
  },
  {
   "cell_type": "code",
   "execution_count": null,
   "id": "0402f804-ff52-473e-aa22-c5fade39ba02",
   "metadata": {},
   "outputs": [],
   "source": []
  }
 ],
 "metadata": {
  "kernelspec": {
   "display_name": "Python 3 (ipykernel)",
   "language": "python",
   "name": "python3"
  },
  "language_info": {
   "codemirror_mode": {
    "name": "ipython",
    "version": 3
   },
   "file_extension": ".py",
   "mimetype": "text/x-python",
   "name": "python",
   "nbconvert_exporter": "python",
   "pygments_lexer": "ipython3",
   "version": "3.12.1"
  }
 },
 "nbformat": 4,
 "nbformat_minor": 5
}
